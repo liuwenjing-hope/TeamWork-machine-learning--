{
 "cells": [
  {
   "cell_type": "code",
   "execution_count": 9,
   "metadata": {},
   "outputs": [],
   "source": [
    "import numpy as np"
   ]
  },
  {
   "cell_type": "code",
   "execution_count": 10,
   "metadata": {},
   "outputs": [],
   "source": [
    "np.random.seed(1234)\n",
    "X = np.random.rand(500,3)\n",
    "y = X.dot(np.array([4.2,5.7,10.8]))\n",
    "#print(X)\n",
    "#print(y)"
   ]
  },
  {
   "cell_type": "markdown",
   "metadata": {},
   "source": [
    "## 调用sklearn的线性回归模型训练数据"
   ]
  },
  {
   "cell_type": "code",
   "execution_count": 11,
   "metadata": {},
   "outputs": [
    {
     "name": "stdout",
     "output_type": "stream",
     "text": [
      "估计的参数值为：[ 4.2  5.7 10.8]\n",
      "R2: 1.0\n",
      "[[2 4 5]]\n",
      "预测值为: [85.2]\n"
     ]
    }
   ],
   "source": [
    "from sklearn.linear_model import LinearRegression\n",
    "import matplotlib.pyplot as plt\n",
    "%matplotlib inline\n",
    "\n",
    "#调用模型\n",
    "#LinearRegression将方程分为两个部分存放,coef_存放回归系数，intercept_存放截距，因此要查看方程，就是查看这两个变量的取值\n",
    "lr = LinearRegression(fit_intercept=True)  # fit_intercept：是否存在截距，默认存在\n",
    "#训练模型\n",
    "lr.fit(X,y)\n",
    "print(\"估计的参数值为：%s\" %(lr.coef_)) # coef_:训练后的输入端模型参数，如果label有两个，即y值有两列。那么是一个2D的array\n",
    "# 计算R平方\n",
    "print('R2: %s' %(lr.score(X,y)))   #score是评分函数，将返回一个小于1的得分，可能会小于0\n",
    "# 任意设定变量，预测目标值\n",
    "x_test = np.array([2,4,5]).reshape(1,-1)\n",
    "print(x_test)\n",
    "y_hat = lr.predict(x_test)\n",
    "print(\"预测值为: %s\" %(y_hat))"
   ]
  },
  {
   "cell_type": "markdown",
   "metadata": {},
   "source": [
    "## 最小二乘法的矩阵求解"
   ]
  },
  {
   "cell_type": "code",
   "execution_count": 12,
   "metadata": {},
   "outputs": [
    {
     "name": "stdout",
     "output_type": "stream",
     "text": [
      "[ 4.2  5.7 10.8]\n",
      "估计的参数值：[ 4.2  5.7 10.8]\n",
      "[85.2]\n",
      "预测值为: [85.2]\n"
     ]
    }
   ],
   "source": [
    "class LR_LS():\n",
    "    def _init_(self):\n",
    "        self.w = None\n",
    "    def fit(self,X,y):\n",
    "        temp0 = np.dot(X.T,X)\n",
    "        temp = np.dot(np.linalg.inv(temp0), X.T)\n",
    "        self.w = np.dot(temp, y)\n",
    "        print(self.w)\n",
    "        return self.w\n",
    "    \n",
    "    def predict(self,x):\n",
    "        y_pred = np.dot(x,self.w)\n",
    "        print(y_pred)\n",
    "        return y_pred\n",
    "       \n",
    "if __name__ == \"__main__\":\n",
    "    lr_ls = LR_LS()\n",
    "    lr_ls.fit(X,y)\n",
    "    print(\"估计的参数值：%s\" %(lr_ls.w))\n",
    "    x_test = np.array([2,4,5]).reshape(1,-1)\n",
    "    print(\"预测值为: %s\" %(lr_ls.predict(x_test)))   \n",
    "      "
   ]
  },
  {
   "cell_type": "markdown",
   "metadata": {},
   "source": [
    "## 梯度下降法"
   ]
  },
  {
   "cell_type": "code",
   "execution_count": 15,
   "metadata": {},
   "outputs": [
    {
     "name": "stdout",
     "output_type": "stream",
     "text": [
      "估计的参数值为：[ 4.2  5.7 10.8]\n",
      "预测值为：[85.2]\n"
     ]
    }
   ],
   "source": [
    "class LR_GD():\n",
    "    def _init_(self):\n",
    "        self.w = none\n",
    "    def fit(self,X,y,alpha = 0.02, loss = 1e-10):\n",
    "\n",
    "        [m,d] = np.shape(X)\n",
    "        self.w = np.zeros((d))\n",
    "        tol = 1e5\n",
    "        while  tol > loss:\n",
    "            temp = X.dot(self.w) - y\n",
    "            self.w = self.w - 1/m * alpha*(temp.dot(X))\n",
    "            tol = np.abs(np.sum(temp))\n",
    "         \n",
    "    def predict(self,x):\n",
    "        y_pred = x.dot(self.w)\n",
    "        return y_pred  \n",
    "if __name__ == \"__main__\":\n",
    "    lr_gd = LR_GD()\n",
    "    lr_gd.fit(X,y)\n",
    "    print(\"估计的参数值为：%s\" %(lr_gd.w))\n",
    "    x_test = np.array([2,4,5]).reshape(1,-1)\n",
    "    print(\"预测值为：%s\" %(lr_gd.predict(x_test)))"
   ]
  },
  {
   "cell_type": "code",
   "execution_count": null,
   "metadata": {},
   "outputs": [],
   "source": []
  }
 ],
 "metadata": {
  "kernelspec": {
   "display_name": "Python 3",
   "language": "python",
   "name": "python3"
  },
  "language_info": {
   "codemirror_mode": {
    "name": "ipython",
    "version": 3
   },
   "file_extension": ".py",
   "mimetype": "text/x-python",
   "name": "python",
   "nbconvert_exporter": "python",
   "pygments_lexer": "ipython3",
   "version": "3.7.4"
  }
 },
 "nbformat": 4,
 "nbformat_minor": 2
}
